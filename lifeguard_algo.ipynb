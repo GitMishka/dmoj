{
  "nbformat": 4,
  "nbformat_minor": 0,
  "metadata": {
    "colab": {
      "provenance": [],
      "authorship_tag": "ABX9TyMkkmOJ6P62/wrZffGXHvAW",
      "include_colab_link": true
    },
    "kernelspec": {
      "name": "python3",
      "display_name": "Python 3"
    },
    "language_info": {
      "name": "python"
    }
  },
  "cells": [
    {
      "cell_type": "markdown",
      "metadata": {
        "id": "view-in-github",
        "colab_type": "text"
      },
      "source": [
        "<a href=\"https://colab.research.google.com/github/GitMishka/dmoj/blob/main/lifeguard_algo.ipynb\" target=\"_parent\"><img src=\"https://colab.research.google.com/assets/colab-badge.svg\" alt=\"Open In Colab\"/></a>"
      ]
    },
    {
      "cell_type": "code",
      "execution_count": null,
      "metadata": {
        "colab": {
          "base_uri": "https://localhost:8080/"
        },
        "id": "DBShXIUoFIMS",
        "outputId": "2880683c-cb90-432a-a645-f8e2d5a50592"
      },
      "outputs": [
        {
          "output_type": "stream",
          "name": "stdout",
          "text": [
            "interval:  [10, 15]\n",
            "interval[0]:  10\n",
            "interval[1]:  15\n",
            "Covered:  {10}\n",
            "interval[0]:  10\n",
            "interval[1]:  15\n",
            "Covered:  {10, 11}\n",
            "interval[0]:  10\n",
            "interval[1]:  15\n",
            "Covered:  {10, 11, 12}\n",
            "interval[0]:  10\n",
            "interval[1]:  15\n",
            "Covered:  {10, 11, 12, 13}\n",
            "interval[0]:  10\n",
            "interval[1]:  15\n",
            "Covered:  {10, 11, 12, 13, 14}\n",
            "interval:  [9, 20]\n",
            "interval[0]:  9\n",
            "interval[1]:  20\n",
            "Covered:  {9, 10, 11, 12, 13, 14}\n",
            "interval[0]:  9\n",
            "interval[1]:  20\n",
            "Covered:  {9, 10, 11, 12, 13, 14}\n",
            "interval[0]:  9\n",
            "interval[1]:  20\n",
            "Covered:  {9, 10, 11, 12, 13, 14}\n",
            "interval[0]:  9\n",
            "interval[1]:  20\n",
            "Covered:  {9, 10, 11, 12, 13, 14}\n",
            "interval[0]:  9\n",
            "interval[1]:  20\n",
            "Covered:  {9, 10, 11, 12, 13, 14}\n",
            "interval[0]:  9\n",
            "interval[1]:  20\n",
            "Covered:  {9, 10, 11, 12, 13, 14}\n",
            "interval[0]:  9\n",
            "interval[1]:  20\n",
            "Covered:  {9, 10, 11, 12, 13, 14, 15}\n",
            "interval[0]:  9\n",
            "interval[1]:  20\n",
            "Covered:  {9, 10, 11, 12, 13, 14, 15, 16}\n",
            "interval[0]:  9\n",
            "interval[1]:  20\n",
            "Covered:  {9, 10, 11, 12, 13, 14, 15, 16, 17}\n",
            "interval[0]:  9\n",
            "interval[1]:  20\n",
            "Covered:  {9, 10, 11, 12, 13, 14, 15, 16, 17, 18}\n",
            "interval[0]:  9\n",
            "interval[1]:  20\n",
            "Covered:  {9, 10, 11, 12, 13, 14, 15, 16, 17, 18, 19}\n",
            "interval:  [17, 25]\n",
            "interval[0]:  17\n",
            "interval[1]:  25\n",
            "Covered:  {9, 10, 11, 12, 13, 14, 15, 16, 17, 18, 19}\n",
            "interval[0]:  17\n",
            "interval[1]:  25\n",
            "Covered:  {9, 10, 11, 12, 13, 14, 15, 16, 17, 18, 19}\n",
            "interval[0]:  17\n",
            "interval[1]:  25\n",
            "Covered:  {9, 10, 11, 12, 13, 14, 15, 16, 17, 18, 19}\n",
            "interval[0]:  17\n",
            "interval[1]:  25\n",
            "Covered:  {9, 10, 11, 12, 13, 14, 15, 16, 17, 18, 19, 20}\n",
            "interval[0]:  17\n",
            "interval[1]:  25\n",
            "Covered:  {9, 10, 11, 12, 13, 14, 15, 16, 17, 18, 19, 20, 21}\n",
            "interval[0]:  17\n",
            "interval[1]:  25\n",
            "Covered:  {9, 10, 11, 12, 13, 14, 15, 16, 17, 18, 19, 20, 21, 22}\n",
            "interval[0]:  17\n",
            "interval[1]:  25\n",
            "Covered:  {9, 10, 11, 12, 13, 14, 15, 16, 17, 18, 19, 20, 21, 22, 23}\n",
            "interval[0]:  17\n",
            "interval[1]:  25\n",
            "Covered:  {9, 10, 11, 12, 13, 14, 15, 16, 17, 18, 19, 20, 21, 22, 23, 24}\n"
          ]
        },
        {
          "output_type": "execute_result",
          "data": {
            "text/plain": [
              "16"
            ]
          },
          "metadata": {},
          "execution_count": 10
        }
      ],
      "source": [
        "def num_covered(intervals,fired):\n",
        "  covered = set()\n",
        "  for i in range(len(intervals)):\n",
        "    if i != fired:\n",
        "      interval = intervals[i]\n",
        "      print('interval: ',interval)\n",
        "      for j in range(interval[0],interval[1]):\n",
        "        print('interval[0]: ',interval[0])\n",
        "        print('interval[1]: ',interval[1])\n",
        "        covered.add(j)\n",
        "        print('Covered: ', covered)\n",
        "  return len(covered)\n",
        "num_covered([[5, 8], [10, 15], [9, 20], [17, 25]], 0)"
      ]
    }
  ]
}