{
  "nbformat": 4,
  "nbformat_minor": 0,
  "metadata": {
    "colab": {
      "provenance": [],
      "authorship_tag": "ABX9TyOo65xYH2CJbACx5LfVpnSb",
      "include_colab_link": true
    },
    "kernelspec": {
      "name": "python3",
      "display_name": "Python 3"
    },
    "language_info": {
      "name": "python"
    }
  },
  "cells": [
    {
      "cell_type": "markdown",
      "metadata": {
        "id": "view-in-github",
        "colab_type": "text"
      },
      "source": [
        "<a href=\"https://colab.research.google.com/github/GitMishka/dmoj/blob/main/readwriteproblem.ipynb\" target=\"_parent\"><img src=\"https://colab.research.google.com/assets/colab-badge.svg\" alt=\"Open In Colab\"/></a>"
      ]
    },
    {
      "cell_type": "code",
      "execution_count": null,
      "metadata": {
        "colab": {
          "base_uri": "https://localhost:8080/"
        },
        "id": "G30mw_3TWkky",
        "outputId": "7c091956-d2c2-4f88-857e-7cd99089c03b"
      },
      "outputs": [
        {
          "output_type": "stream",
          "name": "stdout",
          "text": [
            "12 13\n",
            "perhaps better poetry will be written in the language of digital computers\n"
          ]
        }
      ],
      "source": [
        "input_file = open('word.in', 'r')\n",
        "output_file = open('blah.in', 'w')\n",
        "output_file.write('hello')\n",
        "\n",
        "for line in input_file:\n",
        "  print(line.rstrip())\n"
      ]
    },
    {
      "cell_type": "code",
      "source": [
        "input_file = open('word.in', 'r')\n",
        "output_file = open('word.out', 'w')\n",
        "lst = input_file.readline().split()\n",
        "n = int(lst[0])\n",
        "k = int(lst[1])\n",
        "words = input_file.readline().split()\n",
        "\n",
        "line = ''\n",
        "chars_on_line = 0\n",
        "\n",
        "for word in words:\n",
        "  if chars_on_line + len(word) <= k:\n",
        "    line = line + word + ' '\n",
        "    #print('Line: ',line)\n",
        "    chars_on_line = chars_on_line + len(word)\n",
        "    #print('Chars_on_line:',chars_on_line)\n",
        "  else:\n",
        "    output_file.write(line[:-1]+ '\\n')\n",
        "    line = word + ' '\n",
        "    chars_on_line = len(word)\n",
        "print(line[:-1])\n",
        "output_file.write(line[:-1] + '\\n')\n",
        "\n",
        "input_file.close()\n",
        "output_file.close()\n"
      ],
      "metadata": {
        "colab": {
          "base_uri": "https://localhost:8080/"
        },
        "id": "iP6H4xGawuij",
        "outputId": "826c3f18-b7e5-4cf7-d7b8-5416e3ee0457"
      },
      "execution_count": null,
      "outputs": [
        {
          "output_type": "stream",
          "name": "stdout",
          "text": [
            "computers\n"
          ]
        }
      ]
    }
  ]
}