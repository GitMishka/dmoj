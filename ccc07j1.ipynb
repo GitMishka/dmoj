{
  "nbformat": 4,
  "nbformat_minor": 0,
  "metadata": {
    "colab": {
      "provenance": [],
      "authorship_tag": "ABX9TyOb7tQD7wTHvzoYWJSEaZSq",
      "include_colab_link": true
    },
    "kernelspec": {
      "name": "python3",
      "display_name": "Python 3"
    },
    "language_info": {
      "name": "python"
    }
  },
  "cells": [
    {
      "cell_type": "markdown",
      "metadata": {
        "id": "view-in-github",
        "colab_type": "text"
      },
      "source": [
        "<a href=\"https://colab.research.google.com/github/GitMishka/dmoj/blob/main/ccc07j1.ipynb\" target=\"_parent\"><img src=\"https://colab.research.google.com/assets/colab-badge.svg\" alt=\"Open In Colab\"/></a>"
      ]
    },
    {
      "cell_type": "code",
      "execution_count": null,
      "metadata": {
        "id": "xTdrk8184hkT"
      },
      "outputs": [],
      "source": [
        "#ccc07j1\n",
        "first = int(input())\n",
        "second = int(input())\n",
        "third = int(input())\n",
        "\n",
        "list1 = []\n",
        "\n",
        "list1.extend([first,second,third])\n",
        "#print(list1)\n",
        "list1 = sorted(list1)\n",
        "print(list1[1])\n",
        "#print('hello', list1.sort(reverse=True))"
      ]
    }
  ]
}