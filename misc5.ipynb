{
  "nbformat": 4,
  "nbformat_minor": 0,
  "metadata": {
    "colab": {
      "provenance": [],
      "authorship_tag": "ABX9TyM9g6CvMZm2PAb3BW946g9c",
      "include_colab_link": true
    },
    "kernelspec": {
      "name": "python3",
      "display_name": "Python 3"
    },
    "language_info": {
      "name": "python"
    }
  },
  "cells": [
    {
      "cell_type": "markdown",
      "metadata": {
        "id": "view-in-github",
        "colab_type": "text"
      },
      "source": [
        "<a href=\"https://colab.research.google.com/github/GitMishka/dmoj/blob/main/misc5.ipynb\" target=\"_parent\"><img src=\"https://colab.research.google.com/assets/colab-badge.svg\" alt=\"Open In Colab\"/></a>"
      ]
    },
    {
      "cell_type": "code",
      "execution_count": null,
      "metadata": {
        "colab": {
          "base_uri": "https://localhost:8080/"
        },
        "id": "zugkzF5gMl2D",
        "outputId": "75e466d7-06eb-4931-e9f6-9103205f08ea"
      },
      "outputs": [
        {
          "output_type": "execute_result",
          "data": {
            "text/plain": [
              "[0]"
            ]
          },
          "metadata": {},
          "execution_count": 10
        }
      ],
      "source": [
        "list1,list2 = [],[0]\n",
        "list3 = []\n",
        "\n",
        "def listsort(list1,list2):\n",
        "  for i in list1:\n",
        "    list2.append(i)\n",
        "    list2.sort()\n",
        "  return list2\n",
        "listsort(list1,list2)"
      ]
    },
    {
      "cell_type": "code",
      "source": [
        "digits = [9,9,9]\n",
        "\n",
        "if digits[-1] == 9:\n",
        "  digits[-1] = 0\n",
        "  digits[-2] += 1\n",
        "elif digits[-1] != 9:\n",
        "  #digits[-1] = 0\n",
        "  digits[-1] += 1\n",
        "print(digits)"
      ],
      "metadata": {
        "colab": {
          "base_uri": "https://localhost:8080/"
        },
        "id": "43GJqNmeVIfr",
        "outputId": "32fd2362-48c4-48d9-d332-e47d97742bee"
      },
      "execution_count": null,
      "outputs": [
        {
          "output_type": "stream",
          "name": "stdout",
          "text": [
            "[9, 10, 0]\n"
          ]
        }
      ]
    },
    {
      "cell_type": "code",
      "source": [
        "def plusOne(digits):\n",
        "    n = len(digits)\n",
        "    i = n - 1\n",
        "    carry = 1\n",
        "    while i >= 0 and carry > 0:\n",
        "        digits[i] += carry\n",
        "        carry = digits[i] // 10\n",
        "        digits[i] %= 10\n",
        "        i -= 1\n",
        "    if carry > 0:\n",
        "        digits.insert(0, 1)\n",
        "    return digits\n",
        "\n",
        "    \n",
        "digits = [1, 2, 9]\n",
        "print(plusOne(digits))  \n",
        "digits = [9, 9, 9]\n",
        "print(plusOne(digits))  \n",
        "# digits = [3, 7, 9, 9]\n",
        "# print(plusOne(digits))  "
      ],
      "metadata": {
        "id": "l6Oo3zQipSSr",
        "colab": {
          "base_uri": "https://localhost:8080/"
        },
        "outputId": "2a5ad64f-f7f5-4a8b-beec-5040d5108aa8"
      },
      "execution_count": null,
      "outputs": [
        {
          "output_type": "stream",
          "name": "stdout",
          "text": [
            "[1, 3, 0]\n",
            "[1, 0, 0, 0]\n"
          ]
        }
      ]
    },
    {
      "cell_type": "code",
      "source": [
        "list1 = [9, 9, 9]\n",
        "\n",
        "res1 = int(\"\".join([str(i) for i in list1]))\n",
        "res1 += 1\n",
        "res2 = [int(x) for x in str(res1)]\n",
        "res2"
      ],
      "metadata": {
        "colab": {
          "base_uri": "https://localhost:8080/"
        },
        "id": "qs4mJpU9ZQu9",
        "outputId": "03034774-45d6-4355-efc2-e417a6f3deea"
      },
      "execution_count": null,
      "outputs": [
        {
          "output_type": "execute_result",
          "data": {
            "text/plain": [
              "[1, 0, 0, 0]"
            ]
          },
          "metadata": {},
          "execution_count": 40
        }
      ]
    },
    {
      "cell_type": "code",
      "source": [
        "import pandas as pd\n",
        "s = pd.Series([\"a\", \"b\", \"c\"],\n",
        "\n",
        "              name=\"vals\")\n",
        "\n",
        "s.to_frame()"
      ],
      "metadata": {
        "id": "7naKYLPEZbe4"
      },
      "execution_count": null,
      "outputs": []
    },
    {
      "cell_type": "code",
      "source": [
        "# Importing required libraries\n",
        "from sklearn.datasets import load_iris\n",
        "from sklearn.tree import DecisionTreeClassifier\n",
        "from sklearn.model_selection import train_test_split\n",
        "\n",
        "# Loading iris dataset\n",
        "iris = load_iris()\n",
        "X = iris.data\n",
        "y = iris.target\n",
        "\n",
        "# Splitting data into training and testing sets\n",
        "X_train, X_test, y_train, y_test = train_test_split(X, y, test_size=0.5, random_state=32)\n",
        "\n",
        "# Creating decision tree classifier and fitting the model\n",
        "dtc = DecisionTreeClassifier()\n",
        "dtc.fit(X_train, y_train)\n",
        "\n",
        "# Predicting the target values for testing data\n",
        "y_pred = dtc.predict(X_test)\n",
        "\n",
        "# Calculating the accuracy of the model\n",
        "accuracy = dtc.score(X_test, y_test)\n",
        "print(\"Accuracy:\", accuracy)\n"
      ],
      "metadata": {
        "colab": {
          "base_uri": "https://localhost:8080/"
        },
        "id": "WhE8JkGcAW3K",
        "outputId": "badc115b-ceb8-4810-aa77-13cfbbaa8fca"
      },
      "execution_count": null,
      "outputs": [
        {
          "output_type": "stream",
          "name": "stdout",
          "text": [
            "Accuracy: 0.9333333333333333\n"
          ]
        }
      ]
    },
    {
      "cell_type": "code",
      "source": [
        "list1 = [1,2,3,4,5]\n",
        "list1[-1:]"
      ],
      "metadata": {
        "id": "zX7MvtOSPHnT",
        "colab": {
          "base_uri": "https://localhost:8080/"
        },
        "outputId": "0ae0d383-322b-4e95-e1db-2efe74e4ff16"
      },
      "execution_count": null,
      "outputs": [
        {
          "output_type": "execute_result",
          "data": {
            "text/plain": [
              "[5]"
            ]
          },
          "metadata": {},
          "execution_count": 6
        }
      ]
    },
    {
      "cell_type": "code",
      "source": [
        "list1 = [1,2,3,4,5,6,7,8]\n",
        "largest = 0\n",
        "\n",
        "for i in range(len(list1)+1):\n",
        "  if largest < i:\n",
        "    largest = i\n",
        "print(largest)\n"
      ],
      "metadata": {
        "colab": {
          "base_uri": "https://localhost:8080/"
        },
        "id": "zC-jpBsiNcOw",
        "outputId": "d1fe6bf3-9178-4f37-cffc-49a665d5071d"
      },
      "execution_count": null,
      "outputs": [
        {
          "output_type": "stream",
          "name": "stdout",
          "text": [
            "8\n"
          ]
        }
      ]
    }
  ]
}