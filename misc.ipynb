{
  "nbformat": 4,
  "nbformat_minor": 0,
  "metadata": {
    "colab": {
      "provenance": [],
      "authorship_tag": "ABX9TyP5Vi4h8tTN76CBWFAaqoEm",
      "include_colab_link": true
    },
    "kernelspec": {
      "name": "python3",
      "display_name": "Python 3"
    },
    "language_info": {
      "name": "python"
    }
  },
  "cells": [
    {
      "cell_type": "markdown",
      "metadata": {
        "id": "view-in-github",
        "colab_type": "text"
      },
      "source": [
        "<a href=\"https://colab.research.google.com/github/GitMishka/dmoj/blob/main/misc.ipynb\" target=\"_parent\"><img src=\"https://colab.research.google.com/assets/colab-badge.svg\" alt=\"Open In Colab\"/></a>"
      ]
    },
    {
      "cell_type": "code",
      "execution_count": null,
      "metadata": {
        "colab": {
          "base_uri": "https://localhost:8080/"
        },
        "id": "Nwdbr1KwjgJC",
        "outputId": "89edf239-045b-4375-b7e1-91e6287f9df0"
      },
      "outputs": [
        {
          "output_type": "execute_result",
          "data": {
            "text/plain": [
              "10"
            ]
          },
          "metadata": {},
          "execution_count": 11
        }
      ],
      "source": [
        "from typing import List\n",
        "def sum_even_numbers(numbers: List[int]) -> int:\n",
        "  ttl_sum = 0\n",
        "  for number in numbers:\n",
        "    if number % 2 == 0:\n",
        "      ttl_sum += number\n",
        "  return ttl_sum\n",
        "numbers = [1, 1, 3, 4, 5, 6]\n",
        "sum_even_numbers(numbers)"
      ]
    },
    {
      "cell_type": "code",
      "source": [
        "def most_frequent_char(string: str) -> str:\n",
        "  if len(string) > 0:\n",
        "    string = list(string)\n",
        "    return max(string)\n",
        "  else:\n",
        "    return 0\n",
        "most_frequent_char('')"
      ],
      "metadata": {
        "colab": {
          "base_uri": "https://localhost:8080/"
        },
        "id": "blJ8lS_6l4EA",
        "outputId": "75a850f7-2683-4a51-9bdb-0761e8a46317"
      },
      "execution_count": null,
      "outputs": [
        {
          "output_type": "execute_result",
          "data": {
            "text/plain": [
              "0"
            ]
          },
          "metadata": {},
          "execution_count": 23
        }
      ]
    },
    {
      "cell_type": "code",
      "source": [
        "# list1 = [1,2,3,2]\n",
        "\n",
        "# list2 = set(list1)\n",
        "\n",
        "# list2\n",
        "def unique_elements(numbers: List[int]) -> List[int]:\n",
        "  numbers2 = set(numbers)\n",
        "  return numbers2\n",
        "numbers = [1,2,3,1,1,1,1,2,3,4]\n",
        "unique_elements(numbers)"
      ],
      "metadata": {
        "colab": {
          "base_uri": "https://localhost:8080/"
        },
        "id": "XAoXQnhamGo3",
        "outputId": "32804cc6-83c6-46b8-c835-683ac677d9fc"
      },
      "execution_count": null,
      "outputs": [
        {
          "output_type": "execute_result",
          "data": {
            "text/plain": [
              "{1, 2, 3, 4}"
            ]
          },
          "metadata": {},
          "execution_count": 25
        }
      ]
    },
    {
      "cell_type": "code",
      "source": [
        "list1 = [1,2,3,7,4,5,6,7,7,7,7,7,7]\n",
        "\n",
        "max_number = max(list1)\n",
        "\n",
        "print(max_number)\n",
        "\n",
        "def second_max(list1):\n",
        "  for i in list1: \n",
        "    list1.remove(max_number)\n",
        "    print(list1)\n",
        "  return max(list1)\n",
        "\n",
        "second_max(list1)\n"
      ],
      "metadata": {
        "colab": {
          "base_uri": "https://localhost:8080/"
        },
        "id": "zIjh_zTRpZYw",
        "outputId": "892f8b22-80be-45d8-8056-f9b655984558"
      },
      "execution_count": null,
      "outputs": [
        {
          "output_type": "stream",
          "name": "stdout",
          "text": [
            "7\n",
            "[1, 2, 3, 4, 5, 6, 7, 7, 7, 7, 7, 7]\n",
            "[1, 2, 3, 4, 5, 6, 7, 7, 7, 7, 7]\n",
            "[1, 2, 3, 4, 5, 6, 7, 7, 7, 7]\n",
            "[1, 2, 3, 4, 5, 6, 7, 7, 7]\n",
            "[1, 2, 3, 4, 5, 6, 7, 7]\n",
            "[1, 2, 3, 4, 5, 6, 7]\n",
            "[1, 2, 3, 4, 5, 6]\n"
          ]
        },
        {
          "output_type": "execute_result",
          "data": {
            "text/plain": [
              "6"
            ]
          },
          "metadata": {},
          "execution_count": 46
        }
      ]
    },
    {
      "cell_type": "code",
      "source": [
        "words = ['xanax','tool','banana','canac']\n",
        "\n",
        "def find_palindromes(words):\n",
        "  palindromes = []\n",
        "  for i in words:\n",
        "    #print(i)\n",
        "    if i == i[::-1]:\n",
        "      palindromes.append(i)\n",
        "\n",
        "  return palindromes\n",
        "\n",
        "find_palindromes(words)"
      ],
      "metadata": {
        "colab": {
          "base_uri": "https://localhost:8080/"
        },
        "id": "AmcWv03x4dHQ",
        "outputId": "73a02d70-d9da-4f53-b245-afba34753ba0"
      },
      "execution_count": null,
      "outputs": [
        {
          "output_type": "stream",
          "name": "stdout",
          "text": [
            "None\n",
            "None\n"
          ]
        },
        {
          "output_type": "execute_result",
          "data": {
            "text/plain": [
              "['xanax', 'canac']"
            ]
          },
          "metadata": {},
          "execution_count": 93
        }
      ]
    },
    {
      "cell_type": "code",
      "source": [
        "words = ['xanax','tool','baanana','canac']\n",
        "\n",
        "\n",
        "for i in words:\n",
        "  print(i)\n",
        "  #print(words)"
      ],
      "metadata": {
        "colab": {
          "base_uri": "https://localhost:8080/"
        },
        "id": "ph5Cu9ZX87wi",
        "outputId": "4edffadc-c4ba-4542-d4a3-7bd5132a7fe8"
      },
      "execution_count": null,
      "outputs": [
        {
          "output_type": "stream",
          "name": "stdout",
          "text": [
            "xanax\n",
            "tool\n",
            "baanana\n",
            "canac\n"
          ]
        }
      ]
    },
    {
      "cell_type": "code",
      "source": [
        "def binary_search(nums, target):\n",
        "    left = 0\n",
        "    right = len(nums) - 1\n",
        "    \n",
        "    while left <= right:\n",
        "        mid = (left + right) // 2\n",
        "        print('middle: ', mid)\n",
        "        if nums[mid] == target:\n",
        "            return mid\n",
        "        elif nums[mid] < target:\n",
        "            left = mid + 1\n",
        "            print('left: ', left)\n",
        "        else:\n",
        "            right = mid - 1\n",
        "            print('right: ', right)\n",
        "    \n",
        "    return -1\n",
        "nums = [1,3,4,5,6]\n",
        "target = 3\n",
        "index = binary_search(nums, target)\n",
        "print(\"Index of {}: {}\".format(target, index))  # Output: Index of 7: 3\n"
      ],
      "metadata": {
        "colab": {
          "base_uri": "https://localhost:8080/"
        },
        "id": "tvgZTXSr5Bo0",
        "outputId": "92ed8b5e-a882-47b1-aa67-4841fe78e26d"
      },
      "execution_count": null,
      "outputs": [
        {
          "output_type": "stream",
          "name": "stdout",
          "text": [
            "middle:  2\n",
            "right:  1\n",
            "middle:  0\n",
            "left:  1\n",
            "middle:  1\n",
            "Index of 3: 1\n"
          ]
        }
      ]
    }
  ]
}