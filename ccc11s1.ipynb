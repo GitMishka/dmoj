{
  "nbformat": 4,
  "nbformat_minor": 0,
  "metadata": {
    "colab": {
      "provenance": [],
      "authorship_tag": "ABX9TyPW0a6yvZ7SQxrSaa//ktvp",
      "include_colab_link": true
    },
    "kernelspec": {
      "name": "python3",
      "display_name": "Python 3"
    },
    "language_info": {
      "name": "python"
    }
  },
  "cells": [
    {
      "cell_type": "markdown",
      "metadata": {
        "id": "view-in-github",
        "colab_type": "text"
      },
      "source": [
        "<a href=\"https://colab.research.google.com/github/GitMishka/dmoj/blob/main/ccc11s1.ipynb\" target=\"_parent\"><img src=\"https://colab.research.google.com/assets/colab-badge.svg\" alt=\"Open In Colab\"/></a>"
      ]
    },
    {
      "cell_type": "code",
      "execution_count": null,
      "metadata": {
        "colab": {
          "base_uri": "https://localhost:8080/"
        },
        "id": "H6ZJ43dS8giV",
        "outputId": "659759fd-15b6-4191-ba0c-a68e71697af3"
      },
      "outputs": [
        {
          "output_type": "stream",
          "name": "stdout",
          "text": [
            "Si je discernais ta voix encore Connaissant ce coeur qui doute, Tu me dirais de tirer un trait Quoi que partir me coute.\n",
            "English\n"
          ]
        }
      ],
      "source": [
        "#CCC '11 S1 - English or French?\n",
        "string = input().upper()\n",
        "english = 0\n",
        "french = 0\n",
        "t = 'T'\n",
        "s = 'S'\n",
        "\n",
        "english = string.count(t)\n",
        "french = string.count(s)\n",
        "\n",
        "if french > english:\n",
        "  print('French')\n",
        "elif french == english:\n",
        "  print('French')\n",
        "else:\n",
        "  print('English')\n"
      ]
    },
    {
      "cell_type": "code",
      "source": [
        "string1 = input()\n",
        "string1.count('t')"
      ],
      "metadata": {
        "colab": {
          "base_uri": "https://localhost:8080/"
        },
        "id": "YrTBVKyr_BaI",
        "outputId": "19c2b5d5-42d9-4fe6-b2cf-81125555e564"
      },
      "execution_count": null,
      "outputs": [
        {
          "name": "stdout",
          "output_type": "stream",
          "text": [
            "The red cat sat on the mat. Why are you so sad cat? Don't ask that.\n"
          ]
        },
        {
          "output_type": "execute_result",
          "data": {
            "text/plain": [
              "8"
            ]
          },
          "metadata": {},
          "execution_count": 27
        }
      ]
    },
    {
      "cell_type": "code",
      "source": [
        "n = int(input())\n",
        "t = 0\n",
        "s = 0\n",
        "for i in range(n):\n",
        "    g = input().lower()\n",
        "    t += g.count(\"t\")\n",
        "    s += g.count(\"s\")\n",
        "    \n",
        "if s < t:\n",
        "    print(\"English\")\n",
        "else:\n",
        "    print(\"French\")"
      ],
      "metadata": {
        "colab": {
          "base_uri": "https://localhost:8080/"
        },
        "id": "g6mLG8HdEOBc",
        "outputId": "61f1d764-3869-43c5-a253-dff836ff4f58"
      },
      "execution_count": null,
      "outputs": [
        {
          "output_type": "stream",
          "name": "stdout",
          "text": [
            "3\n",
            "The red cat sat on the mat. Why are you so sad cat? Don't ask that.\n",
            "The red cat sat on the mat. Why are you so sad cat? Don't ask that.\n",
            "The red cat sat on the mat. Why are you so sad cat? Don't ask that.\n",
            "English\n"
          ]
        }
      ]
    },
    {
      "cell_type": "markdown",
      "source": [],
      "metadata": {
        "id": "d8wIY1NnEN0f"
      }
    }
  ]
}