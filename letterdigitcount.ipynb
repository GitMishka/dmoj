{
  "nbformat": 4,
  "nbformat_minor": 0,
  "metadata": {
    "colab": {
      "provenance": [],
      "authorship_tag": "ABX9TyOdcU6gllUhvQQ78aF8PM6N",
      "include_colab_link": true
    },
    "kernelspec": {
      "name": "python3",
      "display_name": "Python 3"
    },
    "language_info": {
      "name": "python"
    }
  },
  "cells": [
    {
      "cell_type": "markdown",
      "metadata": {
        "id": "view-in-github",
        "colab_type": "text"
      },
      "source": [
        "<a href=\"https://colab.research.google.com/github/GitMishka/dmoj/blob/main/letterdigitcount.ipynb\" target=\"_parent\"><img src=\"https://colab.research.google.com/assets/colab-badge.svg\" alt=\"Open In Colab\"/></a>"
      ]
    },
    {
      "cell_type": "code",
      "execution_count": null,
      "metadata": {
        "colab": {
          "base_uri": "https://localhost:8080/"
        },
        "id": "PfxDHB8H8LF-",
        "outputId": "d733bdb5-227d-417d-c399-97117b131dfa"
      },
      "outputs": [
        {
          "output_type": "stream",
          "name": "stdout",
          "text": [
            "(10, 3)\n"
          ]
        }
      ],
      "source": [
        "def count_letters_and_digits(sentence):\n",
        "    letter_count = 0\n",
        "    digit_count = 0\n",
        "    for char in sentence:\n",
        "        if char.isalpha():\n",
        "            letter_count += 1\n",
        "        elif char.isdigit():\n",
        "            digit_count += 1\n",
        "    return (letter_count, digit_count)\n",
        "\n",
        "\n",
        "sentence = \"Hello world! 123\"\n",
        "print(count_letters_and_digits(sentence))\n",
        "\n"
      ]
    }
  ]
}