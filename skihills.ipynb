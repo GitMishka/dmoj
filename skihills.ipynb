{
  "nbformat": 4,
  "nbformat_minor": 0,
  "metadata": {
    "colab": {
      "provenance": [],
      "authorship_tag": "ABX9TyMVTXnfXoQr9zQsWvInUFKv",
      "include_colab_link": true
    },
    "kernelspec": {
      "name": "python3",
      "display_name": "Python 3"
    },
    "language_info": {
      "name": "python"
    }
  },
  "cells": [
    {
      "cell_type": "markdown",
      "metadata": {
        "id": "view-in-github",
        "colab_type": "text"
      },
      "source": [
        "<a href=\"https://colab.research.google.com/github/GitMishka/dmoj/blob/main/skihills.ipynb\" target=\"_parent\"><img src=\"https://colab.research.google.com/assets/colab-badge.svg\" alt=\"Open In Colab\"/></a>"
      ]
    },
    {
      "cell_type": "code",
      "execution_count": null,
      "metadata": {
        "id": "Qs3uuyb6Y7A7"
      },
      "outputs": [],
      "source": [
        "max_difference = 17\n",
        "max_height = 100\n",
        "\n",
        "def cost_for_range(heights,low,high):\n",
        "  cost = 0\n",
        "  for height in heights:\n",
        "    if height < low:\n",
        "      cost = cost + (low - height) ** 2\n",
        "    elif height > high:\n",
        "      cost = cost + (height - high) ** 2\n",
        "  return cost"
      ]
    }
  ]
}