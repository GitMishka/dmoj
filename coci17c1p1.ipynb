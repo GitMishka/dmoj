{
  "nbformat": 4,
  "nbformat_minor": 0,
  "metadata": {
    "colab": {
      "provenance": [],
      "authorship_tag": "ABX9TyPQX5HCh400aW/3Qe9KfXET",
      "include_colab_link": true
    },
    "kernelspec": {
      "name": "python3",
      "display_name": "Python 3"
    },
    "language_info": {
      "name": "python"
    }
  },
  "cells": [
    {
      "cell_type": "markdown",
      "metadata": {
        "id": "view-in-github",
        "colab_type": "text"
      },
      "source": [
        "<a href=\"https://colab.research.google.com/github/GitMishka/dmoj/blob/main/coci17c1p1.ipynb\" target=\"_parent\"><img src=\"https://colab.research.google.com/assets/colab-badge.svg\" alt=\"Open In Colab\"/></a>"
      ]
    },
    {
      "cell_type": "code",
      "execution_count": null,
      "metadata": {
        "colab": {
          "base_uri": "https://localhost:8080/"
        },
        "id": "NRlWLFN9CStp",
        "outputId": "b5de247e-3984-4f44-82f5-c4a5bd96a7c7"
      },
      "outputs": [
        {
          "output_type": "stream",
          "name": "stdout",
          "text": [
            "2\n",
            "8\n",
            "8\n",
            "10\n",
            "28\n",
            "[2, 8, 8, 10]\n"
          ]
        }
      ],
      "source": [
        "#COCI '17 Contest 1 #1 Cezar\n",
        "import random\n",
        "cards = [2,2,2,2,3,3,3,3,4,4,4,4,5,5,5,5,6,6,6,6,7,7,7,7,8,8,8,8,9,9,9,9,10,10,10,10,11,11,11,11,11]\n",
        "removed = []\n",
        "#draw = True\n",
        "hand = 0\n",
        "\n",
        "while hand < 21:\n",
        "\n",
        "  rndm = random.choice(cards)\n",
        "  print(rndm)\n",
        "  removed.append(rndm)\n",
        "  cards.remove(rndm)\n",
        "  hand += rndm\n",
        "\n",
        "print(hand)\n",
        "print(removed)"
      ]
    },
    {
      "cell_type": "code",
      "source": [
        "import random\n",
        "cards = [2,2,2,2,3,3,3,3,4,4,4,4,5,5,5,5,6,6,6,6,7,7,7,7,8,8,8,8,9,9,9,9,10,10,10,10,11,11,11,11,11]\n",
        "print(len(cards))\n",
        "rndm = random.choice(cards)\n",
        "print(rndm)\n",
        "cards.remove(rndm)\n",
        "print(cards)"
      ],
      "metadata": {
        "colab": {
          "base_uri": "https://localhost:8080/"
        },
        "id": "WAGKfU8kLEUL",
        "outputId": "167e2d2d-e6bf-490a-bc57-cb408b63b128"
      },
      "execution_count": null,
      "outputs": [
        {
          "output_type": "stream",
          "name": "stdout",
          "text": [
            "41\n",
            "7\n",
            "[2, 2, 2, 2, 3, 3, 3, 3, 4, 4, 4, 4, 5, 5, 5, 5, 6, 6, 6, 6, 7, 7, 7, 8, 8, 8, 8, 9, 9, 9, 9, 10, 10, 10, 10, 11, 11, 11, 11, 11]\n"
          ]
        }
      ]
    }
  ]
}