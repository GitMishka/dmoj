{
  "nbformat": 4,
  "nbformat_minor": 0,
  "metadata": {
    "colab": {
      "provenance": [],
      "authorship_tag": "ABX9TyM4usVn/jKV8CX7BVgs/LXz",
      "include_colab_link": true
    },
    "kernelspec": {
      "name": "python3",
      "display_name": "Python 3"
    },
    "language_info": {
      "name": "python"
    }
  },
  "cells": [
    {
      "cell_type": "markdown",
      "metadata": {
        "id": "view-in-github",
        "colab_type": "text"
      },
      "source": [
        "<a href=\"https://colab.research.google.com/github/GitMishka/dmoj/blob/main/coci18c3p1.ipynb\" target=\"_parent\"><img src=\"https://colab.research.google.com/assets/colab-badge.svg\" alt=\"Open In Colab\"/></a>"
      ]
    },
    {
      "cell_type": "code",
      "execution_count": null,
      "metadata": {
        "colab": {
          "base_uri": "https://localhost:8080/",
          "height": 253
        },
        "id": "BBbnkS8ON22E",
        "outputId": "c4c21ea2-f9d5-4779-badb-4b737b92429f"
      },
      "outputs": [
        {
          "name": "stdout",
          "output_type": "stream",
          "text": [
            "HONI\n"
          ]
        },
        {
          "output_type": "error",
          "ename": "TypeError",
          "evalue": "ignored",
          "traceback": [
            "\u001b[0;31m---------------------------------------------------------------------------\u001b[0m",
            "\u001b[0;31mTypeError\u001b[0m                                 Traceback (most recent call last)",
            "\u001b[0;32m<ipython-input-6-b96dad3746d1>\u001b[0m in \u001b[0;36m<module>\u001b[0;34m\u001b[0m\n\u001b[1;32m      4\u001b[0m \u001b[0minput1\u001b[0m \u001b[0;34m=\u001b[0m \u001b[0minput\u001b[0m\u001b[0;34m(\u001b[0m\u001b[0;34m)\u001b[0m\u001b[0;34m\u001b[0m\u001b[0;34m\u001b[0m\u001b[0m\n\u001b[1;32m      5\u001b[0m \u001b[0;34m\u001b[0m\u001b[0m\n\u001b[0;32m----> 6\u001b[0;31m \u001b[0;32mwhile\u001b[0m \u001b[0mhoni\u001b[0m \u001b[0;32min\u001b[0m \u001b[0minput1\u001b[0m\u001b[0;34m:\u001b[0m\u001b[0;34m\u001b[0m\u001b[0;34m\u001b[0m\u001b[0m\n\u001b[0m\u001b[1;32m      7\u001b[0m   \u001b[0;32mif\u001b[0m \u001b[0mhoni\u001b[0m \u001b[0;34m==\u001b[0m \u001b[0;34m'H'\u001b[0m\u001b[0;34m:\u001b[0m\u001b[0;34m\u001b[0m\u001b[0;34m\u001b[0m\u001b[0m\n\u001b[1;32m      8\u001b[0m     \u001b[0mresult\u001b[0m \u001b[0;34m=\u001b[0m \u001b[0;34m'HONI'\u001b[0m\u001b[0;34m\u001b[0m\u001b[0;34m\u001b[0m\u001b[0m\n",
            "\u001b[0;31mTypeError\u001b[0m: 'in <string>' requires string as left operand, not list"
          ]
        }
      ],
      "source": [
        "# honi = ['H','O','N','I']\n",
        "# result =''\n",
        "\n",
        "# input1 = input()\n",
        "\n",
        "# while honi in input1:\n",
        "#   if honi == 'H':\n",
        "#     result = 'HONI'\n",
        "# result  "
      ]
    },
    {
      "cell_type": "code",
      "source": [
        "string = input().upper()\n",
        "count = 0\n",
        "\n",
        "targets = [\"H\", \"O\", \"N\", \"I\"]\n",
        "number = 0\n",
        "\n",
        "for i in range(len(string)):\n",
        "    if string[i] == targets[number]:\n",
        "        # print('string[i]:' ,string[i])\n",
        "        # print('targets[number]:',targets[number])\n",
        "        number = (number + 1) % len(targets)\n",
        "        # print(number)     \n",
        "        if string[i] == targets[-1]:\n",
        "          # print(string[i] == targets[-1])\n",
        "          # print(string[i])\n",
        "          # print(targets[-1])\n",
        "          count += 1\n",
        "print(count)"
      ],
      "metadata": {
        "colab": {
          "base_uri": "https://localhost:8080/"
        },
        "id": "9761VFO9CqGC",
        "outputId": "7355699d-3a53-40bd-9608-df7fb9ae2ce9"
      },
      "execution_count": null,
      "outputs": [
        {
          "output_type": "stream",
          "name": "stdout",
          "text": [
            "honnwndnawdi\n",
            "string[i]: H\n",
            "targets[number]: H\n",
            "string[i]: O\n",
            "targets[number]: O\n",
            "string[i]: N\n",
            "targets[number]: N\n",
            "string[i]: I\n",
            "targets[number]: I\n",
            "1\n"
          ]
        }
      ]
    },
    {
      "cell_type": "code",
      "source": [],
      "metadata": {
        "id": "uggnP4A-BgKk"
      },
      "execution_count": null,
      "outputs": []
    }
  ]
}