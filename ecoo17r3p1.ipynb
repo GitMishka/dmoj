{
  "nbformat": 4,
  "nbformat_minor": 0,
  "metadata": {
    "colab": {
      "provenance": [],
      "authorship_tag": "ABX9TyPsqp6vHz0+vdWvRkxEY47h",
      "include_colab_link": true
    },
    "kernelspec": {
      "name": "python3",
      "display_name": "Python 3"
    },
    "language_info": {
      "name": "python"
    }
  },
  "cells": [
    {
      "cell_type": "markdown",
      "metadata": {
        "id": "view-in-github",
        "colab_type": "text"
      },
      "source": [
        "<a href=\"https://colab.research.google.com/github/GitMishka/dmoj/blob/main/ecoo17r3p1.ipynb\" target=\"_parent\"><img src=\"https://colab.research.google.com/assets/colab-badge.svg\" alt=\"Open In Colab\"/></a>"
      ]
    },
    {
      "cell_type": "code",
      "execution_count": null,
      "metadata": {
        "colab": {
          "base_uri": "https://localhost:8080/",
          "height": 270
        },
        "id": "eRrPm6bbbYTT",
        "outputId": "e90e5d0e-b02d-4bed-9bd8-f2f0037e7327"
      },
      "outputs": [
        {
          "name": "stdout",
          "output_type": "stream",
          "text": [
            "4 5\n",
            "4 3 2 4\n"
          ]
        },
        {
          "output_type": "error",
          "ename": "IndexError",
          "evalue": "ignored",
          "traceback": [
            "\u001b[0;31m---------------------------------------------------------------------------\u001b[0m",
            "\u001b[0;31mIndexError\u001b[0m                                Traceback (most recent call last)",
            "\u001b[0;32m<ipython-input-16-ae658284d458>\u001b[0m in \u001b[0;36m<module>\u001b[0;34m\u001b[0m\n\u001b[1;32m     24\u001b[0m       \u001b[0mtotal\u001b[0m \u001b[0;34m=\u001b[0m \u001b[0;36m0\u001b[0m\u001b[0;34m\u001b[0m\u001b[0;34m\u001b[0m\u001b[0m\n\u001b[1;32m     25\u001b[0m       \u001b[0;32mfor\u001b[0m \u001b[0mrow_index\u001b[0m \u001b[0;32min\u001b[0m \u001b[0mrange\u001b[0m\u001b[0;34m(\u001b[0m\u001b[0mdays\u001b[0m\u001b[0;34m)\u001b[0m\u001b[0;34m:\u001b[0m\u001b[0;34m\u001b[0m\u001b[0;34m\u001b[0m\u001b[0m\n\u001b[0;32m---> 26\u001b[0;31m         \u001b[0mtotal\u001b[0m \u001b[0;34m=\u001b[0m \u001b[0mtotal\u001b[0m \u001b[0;34m+\u001b[0m \u001b[0mgrid\u001b[0m\u001b[0;34m[\u001b[0m\u001b[0mrow_index\u001b[0m\u001b[0;34m]\u001b[0m\u001b[0;34m[\u001b[0m\u001b[0mcol_index\u001b[0m\u001b[0;34m]\u001b[0m\u001b[0;34m\u001b[0m\u001b[0;34m\u001b[0m\u001b[0m\n\u001b[0m\u001b[1;32m     27\u001b[0m         \u001b[0;31m#print(total)\u001b[0m\u001b[0;34m\u001b[0m\u001b[0;34m\u001b[0m\u001b[0m\n\u001b[1;32m     28\u001b[0m       \u001b[0;32mif\u001b[0m \u001b[0mtotal\u001b[0m \u001b[0;34m%\u001b[0m \u001b[0;36m13\u001b[0m \u001b[0;34m==\u001b[0m \u001b[0;36m0\u001b[0m\u001b[0;34m:\u001b[0m\u001b[0;34m\u001b[0m\u001b[0;34m\u001b[0m\u001b[0m\n",
            "\u001b[0;31mIndexError\u001b[0m: list index out of range"
          ]
        }
      ],
      "source": [
        "\n",
        "for dataset in range(10):\n",
        "  lst = input().split()\n",
        "  franchisees  = int(lst[0])\n",
        "  days = int(lst[1])\n",
        "  grid = []\n",
        "\n",
        "  for i in range(days):\n",
        "    row = input().split()\n",
        "    #print('row',row)\n",
        "    for j in range(franchisees):\n",
        "      row[j] = int(row[j])\n",
        "      #print('row[j]',row[j])\n",
        "    grid.append(row)\n",
        "    #print('grid',grid)\n",
        "\n",
        "    bonuses = 0\n",
        "\n",
        "    for row in grid:\n",
        "      total = sum(row)\n",
        "      if total % 13 == 0:\n",
        "        bonuses = bonuses + total // 13\n",
        "      \n",
        "    for col_index in range(franchisees):\n",
        "      total = 0\n",
        "      for row_index in range(days):\n",
        "        total = total + grid[row_index][col_index]\n",
        "        #print(total)\n",
        "      if total % 13 == 0:\n",
        "        bonuses = bonuses + total // 13\n",
        "\n",
        "\n",
        "  print(bonuses)   \n",
        "\n",
        "\n",
        "\n",
        "\n",
        "# print(lst)\n",
        "# print(franchisees)\n",
        "# print(days)"
      ]
    }
  ]
}