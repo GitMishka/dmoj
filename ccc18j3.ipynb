{
  "nbformat": 4,
  "nbformat_minor": 0,
  "metadata": {
    "colab": {
      "provenance": [],
      "authorship_tag": "ABX9TyNq6iP3Ym8Ju1kRgse8G9zN",
      "include_colab_link": true
    },
    "kernelspec": {
      "name": "python3",
      "display_name": "Python 3"
    },
    "language_info": {
      "name": "python"
    }
  },
  "cells": [
    {
      "cell_type": "markdown",
      "metadata": {
        "id": "view-in-github",
        "colab_type": "text"
      },
      "source": [
        "<a href=\"https://colab.research.google.com/github/GitMishka/dmoj/blob/main/ccc18j3.ipynb\" target=\"_parent\"><img src=\"https://colab.research.google.com/assets/colab-badge.svg\" alt=\"Open In Colab\"/></a>"
      ]
    },
    {
      "cell_type": "code",
      "execution_count": null,
      "metadata": {
        "colab": {
          "base_uri": "https://localhost:8080/"
        },
        "id": "li_qY7IHLsmc",
        "outputId": "971c9f72-bbba-49c9-fa99-c3ed3ff5b40f"
      },
      "outputs": [
        {
          "output_type": "stream",
          "name": "stdout",
          "text": [
            "1\n",
            "2\n",
            "3\n",
            "4\n",
            "5\n",
            "[1, 2, 3, 4, 5]\n"
          ]
        }
      ],
      "source": [
        "l1 = []\n",
        "for i in range(5):\n",
        "  n = int(input())\n",
        "  l1.append(n)\n",
        "print(l1)\n",
        "\n",
        "for i in l1:\n",
        "  "
      ]
    },
    {
      "cell_type": "code",
      "source": [
        "\n",
        "N = input().split()\n",
        "\n",
        "\n",
        "dist = [0]\n",
        "sd = 0\n",
        "for i in range(1, 5):\n",
        "    sd += int(N[i-1])\n",
        "    print(sd)\n",
        "    dist.append(sd)\n",
        "print(*dist)\n",
        "\n",
        "\n",
        "# j = 1\n",
        "# while j < 5:\n",
        "#     current = dist[j]\n",
        "#     for i in range(5):\n",
        "#         if i < j:\n",
        "#             dist[i] += current\n",
        "#         else:\n",
        "#             dist[i] -= current\n",
        "#     print(*dist)\n",
        "#     j += 1"
      ],
      "metadata": {
        "colab": {
          "base_uri": "https://localhost:8080/"
        },
        "id": "nIFdh6NbklUv",
        "outputId": "939f8661-8cec-4197-b10c-fe6584eff360"
      },
      "execution_count": null,
      "outputs": [
        {
          "output_type": "stream",
          "name": "stdout",
          "text": [
            "3 10 12 5\n",
            "3\n",
            "13\n",
            "25\n",
            "30\n",
            "0 3 13 25 30\n"
          ]
        }
      ]
    }
  ]
}