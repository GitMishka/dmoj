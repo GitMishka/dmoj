{
  "nbformat": 4,
  "nbformat_minor": 0,
  "metadata": {
    "colab": {
      "provenance": [],
      "authorship_tag": "ABX9TyPmKQyphm5rmg9EPLFufbRK",
      "include_colab_link": true
    },
    "kernelspec": {
      "name": "python3",
      "display_name": "Python 3"
    },
    "language_info": {
      "name": "python"
    }
  },
  "cells": [
    {
      "cell_type": "markdown",
      "metadata": {
        "id": "view-in-github",
        "colab_type": "text"
      },
      "source": [
        "<a href=\"https://colab.research.google.com/github/GitMishka/dmoj/blob/main/boxes.ipynb\" target=\"_parent\"><img src=\"https://colab.research.google.com/assets/colab-badge.svg\" alt=\"Open In Colab\"/></a>"
      ]
    },
    {
      "cell_type": "code",
      "execution_count": null,
      "metadata": {
        "colab": {
          "base_uri": "https://localhost:8080/"
        },
        "id": "noDQDMQkxM95",
        "outputId": "bbc2f1a1-342a-4dd5-9406-cfd2a066dc72"
      },
      "outputs": [
        {
          "output_type": "stream",
          "name": "stdout",
          "text": [
            "5\n",
            "1 2 3 4 5\n",
            "YES\n"
          ]
        }
      ],
      "source": [
        "def read_boxes(n):\n",
        "\n",
        "  boxes = []\n",
        "  for i in range(n):\n",
        "    box = input().split()\n",
        "    box.pop(0)\n",
        "    for i in range(len(box)):\n",
        "      box[i] = int(box[i])\n",
        "    boxes.append(box)\n",
        "    return boxes\n",
        "\n",
        "def box_ok(box):\n",
        "\n",
        "  for i in range(len(box) - 1):\n",
        "    if box[i] > box[i + 1]: \n",
        "      return False\n",
        "  return True\n",
        "\n",
        "def all_boxes_ok(boxes):\n",
        "\n",
        "  for box in boxes:\n",
        "    if not box_ok(box):\n",
        "      return False\n",
        "  return True\n",
        "def boxes_endpoints(boxes):\n",
        "\n",
        "  endpoints = []\n",
        "  for box in boxes:\n",
        "    endpoints.append([box[0], box[-1]])\n",
        "  return endpoints\n",
        "\n",
        "def all_endpoints_ok(endpoints):\n",
        "\n",
        "  maximum = endpoints[0][1]\n",
        "  for i in range(1, len(endpoints)):\n",
        "    if endpoints[i][0] < maximum:\n",
        "     return False\n",
        "    maximum = endpoints[i][1]\n",
        "  return True\n",
        "\n",
        "n = int(input())\n",
        "boxes = read_boxes(n)\n",
        "\n",
        "if not all_boxes_ok(boxes):\n",
        "  print('NO')\n",
        "\n",
        "else:\n",
        "   endpoints = boxes_endpoints(boxes)\n",
        "endpoints.sort()\n",
        "\n",
        "\n",
        "if all_endpoints_ok(endpoints):\n",
        "  print('YES')\n",
        "else:\n",
        "  print('NO')  "
      ]
    },
    {
      "cell_type": "code",
      "source": [],
      "metadata": {
        "id": "hitlOEgEztmb"
      },
      "execution_count": null,
      "outputs": []
    }
  ]
}