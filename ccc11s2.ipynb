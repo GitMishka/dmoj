{
  "nbformat": 4,
  "nbformat_minor": 0,
  "metadata": {
    "colab": {
      "provenance": [],
      "authorship_tag": "ABX9TyPXDaWlZFsJT6fjhCGSFCwM",
      "include_colab_link": true
    },
    "kernelspec": {
      "name": "python3",
      "display_name": "Python 3"
    },
    "language_info": {
      "name": "python"
    }
  },
  "cells": [
    {
      "cell_type": "markdown",
      "metadata": {
        "id": "view-in-github",
        "colab_type": "text"
      },
      "source": [
        "<a href=\"https://colab.research.google.com/github/GitMishka/dmoj/blob/main/ccc11s2.ipynb\" target=\"_parent\"><img src=\"https://colab.research.google.com/assets/colab-badge.svg\" alt=\"Open In Colab\"/></a>"
      ]
    },
    {
      "cell_type": "code",
      "execution_count": null,
      "metadata": {
        "id": "jka-Y_GxGMr5",
        "colab": {
          "base_uri": "https://localhost:8080/"
        },
        "outputId": "f1845b0a-0d4a-41da-d122-3f8d6f568131"
      },
      "outputs": [
        {
          "output_type": "stream",
          "name": "stdout",
          "text": [
            "4\n",
            "a\n",
            "b\n",
            "c\n",
            "d\n",
            "d\n",
            "b\n",
            "c\n",
            "a\n",
            "2\n"
          ]
        }
      ],
      "source": [
        "#CCC '11 S2 - Multiple Choice\n",
        "input1 = int(input())\n",
        "list1 = []\n",
        "right = 0\n",
        "for i in range(input1):\n",
        "    answer = input()\n",
        "    list1.append(answer)\n",
        "#print(student)\n",
        "\n",
        "for i in range(input1):\n",
        "    correct = input()\n",
        "    if list1[i] == correct:\n",
        "        right += 1\n",
        "print(right)"
      ]
    }
  ]
}