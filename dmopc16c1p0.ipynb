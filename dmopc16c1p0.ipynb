{
  "nbformat": 4,
  "nbformat_minor": 0,
  "metadata": {
    "colab": {
      "provenance": [],
      "authorship_tag": "ABX9TyMwhb8ygHjwx75odxapWaNP",
      "include_colab_link": true
    },
    "kernelspec": {
      "name": "python3",
      "display_name": "Python 3"
    },
    "language_info": {
      "name": "python"
    }
  },
  "cells": [
    {
      "cell_type": "markdown",
      "metadata": {
        "id": "view-in-github",
        "colab_type": "text"
      },
      "source": [
        "<a href=\"https://colab.research.google.com/github/GitMishka/dmoj/blob/main/dmopc16c1p0.ipynb\" target=\"_parent\"><img src=\"https://colab.research.google.com/assets/colab-badge.svg\" alt=\"Open In Colab\"/></a>"
      ]
    },
    {
      "cell_type": "code",
      "execution_count": null,
      "metadata": {
        "id": "7ByV1MBu4NHg"
      },
      "outputs": [],
      "source": [
        "#dmopc16c1p0\n",
        "unit = int(input())\n",
        "perecent = int(input())\n",
        "if unit >= 3 and perecent >= 95:\n",
        "  print('C.C. is absolutely satisfied with her pizza.')\n",
        "elif unit == 1 and perecent <= 50: #perecent > 1 and \n",
        "  print('C.C. is fairly satisfied with her pizza.')\n",
        "else:\n",
        "  print('C.C. is very satisfied with her pizza.')"
      ]
    },
    {
      "cell_type": "code",
      "source": [],
      "metadata": {
        "id": "2GLcywPG4f12"
      },
      "execution_count": null,
      "outputs": []
    }
  ]
}