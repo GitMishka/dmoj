{
  "nbformat": 4,
  "nbformat_minor": 0,
  "metadata": {
    "colab": {
      "provenance": [],
      "authorship_tag": "ABX9TyNJgmepBxINcOq9frGLAOhB",
      "include_colab_link": true
    },
    "kernelspec": {
      "name": "python3",
      "display_name": "Python 3"
    },
    "language_info": {
      "name": "python"
    }
  },
  "cells": [
    {
      "cell_type": "markdown",
      "metadata": {
        "id": "view-in-github",
        "colab_type": "text"
      },
      "source": [
        "<a href=\"https://colab.research.google.com/github/GitMishka/dmoj/blob/main/day3_5.ipynb\" target=\"_parent\"><img src=\"https://colab.research.google.com/assets/colab-badge.svg\" alt=\"Open In Colab\"/></a>"
      ]
    },
    {
      "cell_type": "code",
      "execution_count": null,
      "metadata": {
        "id": "xJc64lq7yDEH",
        "outputId": "9348cde7-9755-4083-9423-0e69aeed9783",
        "colab": {
          "base_uri": "https://localhost:8080/"
        }
      },
      "outputs": [
        {
          "output_type": "stream",
          "name": "stdout",
          "text": [
            "1 2 3 \n",
            "1 3 \n"
          ]
        }
      ],
      "source": [
        "class Node:\n",
        "    def __init__(self, data):\n",
        "        self.data = data\n",
        "        self.next = None\n",
        "\n",
        "class LinkedList:\n",
        "    def __init__(self):\n",
        "        self.head = None\n",
        "\n",
        "    def add(self, data):\n",
        "        new_node = Node(data)\n",
        "        if self.head is None:\n",
        "            self.head = new_node\n",
        "        else:\n",
        "            current = self.head\n",
        "            while current.next is not None:\n",
        "                current = current.next\n",
        "            current.next = new_node\n",
        "\n",
        "    def remove(self, data):\n",
        "        if self.head is None:\n",
        "            return\n",
        "        if self.head.data == data:\n",
        "            self.head = self.head.next\n",
        "            return\n",
        "        current = self.head\n",
        "        while current.next is not None:\n",
        "            if current.next.data == data:\n",
        "                current.next = current.next.next\n",
        "                return\n",
        "            current = current.next\n",
        "\n",
        "    def print_list(self):\n",
        "        current = self.head\n",
        "        while current is not None:\n",
        "            print(current.data, end=\" \")\n",
        "            current = current.next\n",
        "        print()\n",
        "# Create a new linked list\n",
        "my_list = LinkedList()\n",
        "\n",
        "# Add some nodes to the list\n",
        "my_list.add(1)\n",
        "my_list.add(2)\n",
        "my_list.add(3)\n",
        "\n",
        "# Print the list\n",
        "my_list.print_list()  # Output: 1 2 3\n",
        "\n",
        "# Remove a node from the list\n",
        "my_list.remove(2)\n",
        "\n",
        "# Print the list again\n",
        "my_list.print_list()  # Output: 1 3\n"
      ]
    }
  ]
}