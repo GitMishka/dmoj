{
  "nbformat": 4,
  "nbformat_minor": 0,
  "metadata": {
    "colab": {
      "provenance": [],
      "authorship_tag": "ABX9TyNOomrQlpzc4VU1hDd5X5KT",
      "include_colab_link": true
    },
    "kernelspec": {
      "name": "python3",
      "display_name": "Python 3"
    },
    "language_info": {
      "name": "python"
    }
  },
  "cells": [
    {
      "cell_type": "markdown",
      "metadata": {
        "id": "view-in-github",
        "colab_type": "text"
      },
      "source": [
        "<a href=\"https://colab.research.google.com/github/GitMishka/dmoj/blob/main/dmoj.ipynb\" target=\"_parent\"><img src=\"https://colab.research.google.com/assets/colab-badge.svg\" alt=\"Open In Colab\"/></a>"
      ]
    },
    {
      "cell_type": "code",
      "execution_count": null,
      "metadata": {
        "colab": {
          "base_uri": "https://localhost:8080/"
        },
        "id": "KGhttRZ5py1I",
        "outputId": "1a49413e-c952-44a0-f51e-faf8b7805192"
      },
      "outputs": [
        {
          "output_type": "stream",
          "name": "stdout",
          "text": [
            "2\n",
            "1\n",
            "3\n",
            "4\n",
            "Your total Calorie count is 649.\n"
          ]
        }
      ],
      "source": [
        "burger = int(input())\n",
        "side = int(input())\n",
        "drink = int(input())\n",
        "\n",
        "dessert = int(input())\n",
        "\n",
        "calories = 0\n",
        "\n",
        "if burger == 1:\n",
        "    calories = calories + 461\n",
        "elif burger == 2:\n",
        "    calories = calories + 431\n",
        "elif burger == 3:\n",
        "    calories = calories + 420\n",
        "else:\n",
        "    calories =  calories + 0\n",
        "\n",
        "if side == 1:\n",
        "  calories = calories + 100\n",
        "elif side == 2:\n",
        "  calories = calories + 57\n",
        "elif side == 3:\n",
        "  calories = calories + 70\n",
        "else:\n",
        "  calories = calories + 0\n",
        "\n",
        "if drink == 1:\n",
        "    calories = calories + 130\n",
        "elif drink == 2:\n",
        "    calories = calories + 160\n",
        "elif drink == 3:\n",
        "    calories = calories + 118\n",
        "else:\n",
        "    calories = calories + 0\n",
        "\n",
        "\n",
        "if dessert == 1:\n",
        "  calories = calories + 167\n",
        "elif dessert == 2:\n",
        "  calories = calories + 266\n",
        "elif dessert == 3:\n",
        "  calories = calories + 75\n",
        "else:\n",
        "  calories = calories + 0\n",
        "\n",
        "calories = str(calories)\n",
        "\n",
        "print('Your total Calorie count is ' + calories + '.')"
      ]
    },
    {
      "cell_type": "code",
      "source": [
        "month = int(input())\n",
        "day = int(input())\n",
        "if month == 2:\n",
        "  if day < 18:\n",
        "    print('Before')\n",
        "  elif day > 18:\n",
        "    print('After')\n",
        "  else:\n",
        "    print('Special')\n",
        "elif month < 2:\n",
        "  print('Before')\n",
        "else:\n",
        "  print('After')"
      ],
      "metadata": {
        "colab": {
          "base_uri": "https://localhost:8080/"
        },
        "id": "yAHxCVOPvLcp",
        "outputId": "4cd3fdff-f0f6-4fad-af59-e32552a265a6"
      },
      "execution_count": null,
      "outputs": [
        {
          "output_type": "stream",
          "name": "stdout",
          "text": [
            "2\n",
            "18\n",
            "Before\n"
          ]
        }
      ]
    },
    {
      "cell_type": "code",
      "source": [],
      "metadata": {
        "id": "Wz231w797ItM"
      },
      "execution_count": null,
      "outputs": []
    }
  ]
}