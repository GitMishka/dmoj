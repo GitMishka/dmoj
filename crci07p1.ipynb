{
  "nbformat": 4,
  "nbformat_minor": 0,
  "metadata": {
    "colab": {
      "provenance": [],
      "authorship_tag": "ABX9TyOvi8iYwYWd0XFOJlHKZmHM",
      "include_colab_link": true
    },
    "kernelspec": {
      "name": "python3",
      "display_name": "Python 3"
    },
    "language_info": {
      "name": "python"
    }
  },
  "cells": [
    {
      "cell_type": "markdown",
      "metadata": {
        "id": "view-in-github",
        "colab_type": "text"
      },
      "source": [
        "<a href=\"https://colab.research.google.com/github/GitMishka/dmoj/blob/main/crci07p1.ipynb\" target=\"_parent\"><img src=\"https://colab.research.google.com/assets/colab-badge.svg\" alt=\"Open In Colab\"/></a>"
      ]
    },
    {
      "cell_type": "code",
      "execution_count": null,
      "metadata": {
        "colab": {
          "base_uri": "https://localhost:8080/"
        },
        "id": "6Yo9u7njHZKr",
        "outputId": "978573d4-20e6-4fca-f633-702e9a6a4994"
      },
      "outputs": [
        {
          "output_type": "stream",
          "name": "stdout",
          "text": [
            "3\n",
            "15 15 15\n",
            "13 18 21\n",
            "10 93 72\n",
            "[(10, 93, 72), (13, 18, 21), (15, 15, 15)]\n",
            "117\n"
          ]
        }
      ],
      "source": [
        "n = int(input())\n",
        "platforms = []\n",
        "for i in range(n):\n",
        "    y, x1, x2 = map(int, input().split())\n",
        "    platforms.append((y, x1, x2))\n",
        "\n",
        "platforms.sort()\n",
        "print(platforms)\n",
        "\n",
        "current_height = 0\n",
        "current_pos = platforms[0][1]\n",
        "\n",
        "total_distance = 0\n",
        "for i in range(n):\n",
        "    y, x1, x2 = platforms[i]\n",
        "    total_distance += abs(current_pos - x1)\n",
        "    current_pos = x1\n",
        "    if y > current_height:\n",
        "        total_distance += y - current_height\n",
        "        current_height = y\n",
        "    elif y < current_height:\n",
        "        total_distance += current_height - y\n",
        "        current_height = y\n",
        "    total_distance += abs(x2 - x1)\n",
        "\n",
        "print(total_distance)\n"
      ]
    },
    {
      "cell_type": "code",
      "source": [],
      "metadata": {
        "id": "4xMDHGZqRIB4"
      },
      "execution_count": null,
      "outputs": []
    },
    {
      "cell_type": "code",
      "source": [
        "def reverse_string(s):\n",
        "    if len(s) == 0:\n",
        "        return \"\"\n",
        "    else:\n",
        "        return s[::-1]\n",
        "reverse_string('Banana')"
      ],
      "metadata": {
        "colab": {
          "base_uri": "https://localhost:8080/",
          "height": 35
        },
        "id": "WnzHDJb5Qrg_",
        "outputId": "9d10f251-d460-4572-ae14-4da84f2d6e5a"
      },
      "execution_count": null,
      "outputs": [
        {
          "output_type": "execute_result",
          "data": {
            "text/plain": [
              "'ananaB'"
            ],
            "application/vnd.google.colaboratory.intrinsic+json": {
              "type": "string"
            }
          },
          "metadata": {},
          "execution_count": 6
        }
      ]
    }
  ]
}