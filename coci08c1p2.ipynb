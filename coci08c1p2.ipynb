{
  "cells": [
    {
      "cell_type": "markdown",
      "metadata": {
        "id": "view-in-github",
        "colab_type": "text"
      },
      "source": [
        "<a href=\"https://colab.research.google.com/github/GitMishka/dmoj/blob/main/coci08c1p2.ipynb\" target=\"_parent\"><img src=\"https://colab.research.google.com/assets/colab-badge.svg\" alt=\"Open In Colab\"/></a>"
      ]
    },
    {
      "cell_type": "code",
      "execution_count": null,
      "metadata": {
        "colab": {
          "background_save": true,
          "base_uri": "https://localhost:8080/"
        },
        "id": "48uiXwkF6FV3",
        "outputId": "062f0bbd-70dc-47af-82c3-08e06f7078e9"
      },
      "outputs": [
        {
          "name": "stdout",
          "output_type": "stream",
          "text": [
            "adrian score: 1\n",
            "adrian score: 2\n",
            "adrian score: 3\n",
            "adrian score: 4\n"
          ]
        }
      ],
      "source": [
        "adrian = ['A','B', 'C' , 'A', 'B' , 'C ', 'A ', 'B' , 'C' , 'A' , 'B' , 'C']\n",
        "bruno  = ['B','A', 'B' , 'C' , 'B' , 'A' , 'B' , 'C' , 'B' , 'A' , 'B' , 'C']\n",
        "goran  = ['C','C', 'A' , 'A' , 'B' , 'B' , 'C' , 'C' , 'A' , 'A' , 'B' , 'B']\n",
        "\n",
        "adrian_correct = 0\n",
        "bruno_correct = 0\n",
        "goran_correct = 0\n",
        "list_correct =[]\n",
        "\n",
        "length = int(input())\n",
        "\n",
        "for i in range(length):\n",
        "  answers = input().upper()\n",
        "  if answers == adrian[i]:\n",
        "    adrian_correct += 1\n",
        "    print('adrian score:',adrian_correct)\n",
        "  elif answers == bruno[i]:\n",
        "    bruno_correct += 1\n",
        "    #print('bruno score:',bruno_correct)\n",
        "  elif answers == goran[i]:\n",
        "    goran_correct += 1\n",
        "    #print('goran score:',goran_correct)\n",
        "  # print(adrian_correct)\n",
        "  # print(bruno_correct)\n",
        "  # print(goran_correct)\n",
        "# print(adrian_correct)\n",
        "# print(bruno_correct)\n",
        "# print(goran_correct)\n",
        "list_correct.extend([adrian_correct,bruno_correct,goran_correct])\n",
        "#print(list_correct)\n",
        "if list_correct[0] > list_correct[1] and list_correct[0] > list_correct[2]:\n",
        "  print(list_correct[0])\n",
        "  print('Adrian')\n",
        "# if list_correct[1] > list_correct[0] and list_correct[1] > list_correct[2]:\n",
        "#   print(list_correct[1])\n",
        "#   print('Bruno')\n",
        "# if list_correct[2] > list_correct[1] and list_correct[2] > list_correct[0]:\n",
        "#   print(list_correct[2])\n",
        "#   print('Goran') \n",
        "# if list_correct[2] == list_correct[1] == list_correct[0]:\n",
        "#   print(list_correct[0])\n",
        "#   print('Adrian')\n",
        "#   print('Bruno')\n",
        "#   print('Goran') \n",
        "\n",
        "\n",
        "\n",
        "# if adrian_correct > brune_correct and goran_correct:\n",
        "#   print(adrian_correct, 'Adrian')\n",
        "# elif brune_correct > adrian_correct and goran_correct:\n",
        "#   print(brune_correct, 'Bruno')\n",
        "# elif goran_correct > adrian_correct and brune_correct:\n",
        "#   print(goran_correct,'Goran')\n",
        "# else:\n",
        "#   print(goran_correct,brune_correct,adrian)\n",
        "\n",
        "  \n",
        "\n"
      ]
    },
    {
      "cell_type": "code",
      "execution_count": null,
      "metadata": {
        "id": "xjTwGs3yLlWb"
      },
      "outputs": [],
      "source": []
    },
    {
      "cell_type": "code",
      "execution_count": null,
      "metadata": {
        "colab": {
          "base_uri": "https://localhost:8080/"
        },
        "id": "9_-dYJm2-UF0",
        "outputId": "611f08f3-b67a-4e80-e1b9-ada612ae469b"
      },
      "outputs": [
        {
          "name": "stdout",
          "output_type": "stream",
          "text": [
            "4\n",
            "ABCD\n",
            "1\n",
            "2\n",
            "3\n"
          ]
        }
      ],
      "source": [
        "n = int(input())\n",
        "ans = input()\n",
        "adrian = 'ABC'\n",
        "bruno = 'BABC'\n",
        "goran = 'CCAABB'\n",
        "score_adrian = 0\n",
        "score_bruno = 0\n",
        "score_goran = 0\n",
        "output = ''\n",
        "for i in range(n):\n",
        "    if ans[i] == adrian[i % 3]:\n",
        "        score_adrian = score_adrian + 1\n",
        "        print(score_adrian)"
      ]
    }
  ],
  "metadata": {
    "colab": {
      "provenance": [],
      "authorship_tag": "ABX9TyMZwsI+n/KPacIWANU7ol7I",
      "include_colab_link": true
    },
    "kernelspec": {
      "display_name": "Python 3",
      "name": "python3"
    },
    "language_info": {
      "name": "python"
    }
  },
  "nbformat": 4,
  "nbformat_minor": 0
}